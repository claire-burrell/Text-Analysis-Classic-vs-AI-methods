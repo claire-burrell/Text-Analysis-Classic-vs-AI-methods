{
 "cells": [
  {
   "cell_type": "markdown",
   "id": "144c37fb",
   "metadata": {},
   "source": [
    "### Import packages"
   ]
  },
  {
   "cell_type": "code",
   "execution_count": 1,
   "id": "c71f572f",
   "metadata": {},
   "outputs": [
    {
     "name": "stderr",
     "output_type": "stream",
     "text": [
      "[nltk_data] Downloading package punkt to\n",
      "[nltk_data]     C:\\Users\\cjb224\\AppData\\Roaming\\nltk_data...\n",
      "[nltk_data]   Package punkt is already up-to-date!\n",
      "[nltk_data] Downloading package stopwords to\n",
      "[nltk_data]     C:\\Users\\cjb224\\AppData\\Roaming\\nltk_data...\n",
      "[nltk_data]   Package stopwords is already up-to-date!\n",
      "[nltk_data] Downloading package wordnet to\n",
      "[nltk_data]     C:\\Users\\cjb224\\AppData\\Roaming\\nltk_data...\n",
      "[nltk_data]   Package wordnet is already up-to-date!\n",
      "[nltk_data] Downloading package omw-1.4 to\n",
      "[nltk_data]     C:\\Users\\cjb224\\AppData\\Roaming\\nltk_data...\n",
      "[nltk_data]   Package omw-1.4 is already up-to-date!\n"
     ]
    }
   ],
   "source": [
    "import numpy as np\n",
    "import re\n",
    "import string\n",
    "\n",
    "import nltk\n",
    "from nltk.corpus import stopwords\n",
    "from nltk.stem import WordNetLemmatizer\n",
    "from nltk.tokenize import word_tokenize\n",
    "\n",
    "nltk.download('punkt')\n",
    "nltk.download('stopwords')\n",
    "nltk.download('wordnet')\n",
    "nltk.download('omw-1.4')\n",
    "stop_words = stopwords.words()"
   ]
  },
  {
   "cell_type": "markdown",
   "id": "e300f813",
   "metadata": {},
   "source": [
    "https://www.kaggle.com/code/ankumagawa/sentimental-analysis-using-naive-bayes-classifier"
   ]
  },
  {
   "cell_type": "markdown",
   "id": "3d997a75",
   "metadata": {},
   "source": [
    "### Import Dataset: GoEmotions"
   ]
  },
  {
   "cell_type": "code",
   "execution_count": 2,
   "id": "4900d68d",
   "metadata": {},
   "outputs": [],
   "source": [
    "from datasets import load_dataset\n",
    "\n",
    "dataset = load_dataset(\"go_emotions\", \"raw\")"
   ]
  },
  {
   "cell_type": "markdown",
   "id": "52a0f897",
   "metadata": {},
   "source": [
    "### Create classes"
   ]
  },
  {
   "cell_type": "code",
   "execution_count": 3,
   "id": "6811a6dd",
   "metadata": {},
   "outputs": [],
   "source": [
    "positive_em = ['admiration', 'amusement', 'approval', 'caring', 'desire', 'excitement', 'gratitude', 'joy', 'love', 'optimism', 'pride', 'relief']\n",
    "negative_em = ['anger', 'annoyance', 'disappointment', 'disapproval', 'disgust', 'embarrassment', 'fear', 'grief', 'nervousness', 'remorse', 'sadness']\n",
    "neutral_em = ['neutral']\n",
    "ambiguous_em = ['curiosity', 'realization', 'surprise', 'confusion']"
   ]
  },
  {
   "cell_type": "code",
   "execution_count": 4,
   "id": "a18ca793",
   "metadata": {},
   "outputs": [],
   "source": [
    "train_ds = dataset[\"train\"]\n",
    "\n",
    "positive = np.zeros(len(train_ds))\n",
    "for i in positive_em:\n",
    "    array = np.array(train_ds[i])\n",
    "    positive = positive + array\n",
    "    \n",
    "negative = np.zeros(len(train_ds))\n",
    "for i in negative_em:\n",
    "    array = np.array(train_ds[i])\n",
    "    negative = negative + array\n",
    "\n",
    "neutral = np.array(train_ds['neutral'])\n",
    "\n",
    "ambiguous = np.zeros(len(train_ds))\n",
    "for i in ambiguous_em:\n",
    "    array = np.array(train_ds[i])\n",
    "    ambiguous = ambiguous + array\n",
    "    "
   ]
  },
  {
   "cell_type": "code",
   "execution_count": 5,
   "id": "33c5808b",
   "metadata": {},
   "outputs": [],
   "source": [
    "xpositive = np.array([1 if row > 0 else 0 for row in positive])\n",
    "xnegative = np.array([1 if row > 0 else 0 for row in negative])\n",
    "xambiguous = np.array([1 if row > 0 else 0 for row in ambiguous])\n",
    "xneutral = np.array([1 if row > 0 else 0 for row in neutral])\n",
    "\n",
    "add_sentiment = xpositive + xnegative + xambiguous + xneutral\n",
    "\n",
    "remove_indices = [i for i, x in enumerate(add_sentiment) if x > 1]\n",
    "keep_indices = [i for i, x in enumerate(add_sentiment) if x < 2]"
   ]
  },
  {
   "cell_type": "code",
   "execution_count": 6,
   "id": "8a186333",
   "metadata": {},
   "outputs": [],
   "source": [
    "positive = np.array([1 if row > 0 else 0 for row in positive])\n",
    "negative = np.array([-1 if row > 0 else 0 for row in negative])\n",
    "ambiguous = np.array([2 if row > 0 else 0 for row in ambiguous])\n",
    "neutral = np.array([0 if row > 0 else 0 for row in neutral])\n",
    "\n",
    "sentiment = positive + negative + ambiguous + neutral\n",
    "sentiment = [i for j, i in enumerate(sentiment) if j not in remove_indices]\n"
   ]
  },
  {
   "cell_type": "code",
   "execution_count": 7,
   "id": "a133ecc0",
   "metadata": {},
   "outputs": [],
   "source": [
    "new_dataset = train_ds.map(remove_columns=['id', 'author', 'subreddit', 'link_id', 'parent_id', 'created_utc', 'rater_id', 'example_very_unclear', 'excitement', 'sadness','admiration', 'amusement', 'anger', 'annoyance', 'approval', 'caring', 'confusion', 'curiosity', 'desire', 'disappointment', 'disapproval', 'disgust', 'embarrassment', 'fear', 'gratitude', 'grief', 'joy', 'love', 'nervousness', 'optimism', 'pride', 'realization', 'relief', 'remorse', 'surprise','neutral'])\n",
    "new_dataset = new_dataset.select(keep_indices)\n",
    "new_dataset = new_dataset.add_column(\"sentiment\",sentiment)"
   ]
  },
  {
   "cell_type": "code",
   "execution_count": 8,
   "id": "103b9898",
   "metadata": {},
   "outputs": [],
   "source": [
    "import pandas as pd\n",
    "# Change into a dataset to clean and tokenise data\n",
    "data = pd.DataFrame(new_dataset)\n",
    "\n",
    "data = data.rename(columns={\"text\":\"review\"})"
   ]
  },
  {
   "cell_type": "code",
   "execution_count": 9,
   "id": "6a3b51a2",
   "metadata": {},
   "outputs": [],
   "source": [
    "data = data.drop(6224)\n",
    "data = data.drop(15781)\n",
    "data = data.drop(18668)\n",
    "data = data.drop(25030)\n",
    "data = data.drop(59237)\n",
    "data = data.drop(62391)\n",
    "data = data.drop(79941)\n",
    "data = data.drop(82032)\n",
    "data = data.drop(83339)\n",
    "data = data.drop(102564)\n",
    "data = data.drop(112052)\n",
    "data = data.drop(121557)\n",
    "data = data.drop(135426)\n",
    "data = data.drop(158284)\n",
    "data = data.drop(163029)\n",
    "data = data.drop(164737)\n",
    "data = data.drop(164752)\n",
    "data = data.drop(180516)"
   ]
  },
  {
   "cell_type": "markdown",
   "id": "71c4519c",
   "metadata": {},
   "source": [
    "### Clean text data:"
   ]
  },
  {
   "cell_type": "code",
   "execution_count": 10,
   "id": "4de43928",
   "metadata": {},
   "outputs": [],
   "source": [
    "y_train = data['sentiment']\n",
    "x_train = data.drop([\"sentiment\"], axis=1)"
   ]
  },
  {
   "cell_type": "code",
   "execution_count": 11,
   "id": "8af12f3a",
   "metadata": {},
   "outputs": [],
   "source": [
    "# Import list of stopwords from library NLTK\n",
    "from nltk.corpus import stopwords\n",
    "\n",
    "stopwords_list = set(stopwords.words(\"english\"))\n",
    "\n",
    "# We remove negation words in list of stopwords\n",
    "no_stopwords = [\"not\",\"don't\",'aren','don','ain',\"aren't\", 'couldn', \"couldn't\", 'didn', \"didn't\", 'doesn', \"doesn't\", 'hadn', \"hadn't\", 'hasn', \"hasn't\", 'haven', \"haven't\", 'isn', \"isn't\",\n",
    "               'ma', 'mightn', \"mightn't\", 'mustn', \"mustn't\", 'needn', \"needn't\", 'shan', \"shan't\", 'shouldn', \"shouldn't\", 'wasn', \"wasn't\", 'weren', \"weren't\",\n",
    "               \"won't\", 'wouldn', \"wouldn't\"]\n",
    "for no_stopword in no_stopwords:\n",
    "    stopwords_list.remove(no_stopword)"
   ]
  },
  {
   "cell_type": "code",
   "execution_count": 12,
   "id": "ed65e6be",
   "metadata": {},
   "outputs": [],
   "source": [
    "# Import Lemmatizer from NLTK\n",
    "from nltk.stem import WordNetLemmatizer\n",
    "\n",
    "lemmatizer = WordNetLemmatizer()\n",
    "\n",
    "# function that receive a list of words and do lemmatization:\n",
    "def lemma_stem_text(words_list):\n",
    "    # Lemmatizer\n",
    "    text = [lemmatizer.lemmatize(token.lower()) for token in words_list]# eighties->eight or messages->message or drugs->drug\n",
    "    text = [lemmatizer.lemmatize(token.lower(), \"v\") for token in text]# going-> go or started->start or watching->watch\n",
    "    return text"
   ]
  },
  {
   "cell_type": "code",
   "execution_count": 13,
   "id": "e6157fd4",
   "metadata": {},
   "outputs": [],
   "source": [
    "import re\n",
    "re_negation = re.compile(\"n't \")\n",
    "\n",
    "# function that receive a sequence of woords and return the same sequence transforming\n",
    "# abbreviated negations to the standard form.\n",
    "def negation_abbreviated_to_standard(sent):\n",
    "    sent = re_negation.sub(\" not \", sent)\n",
    "    return sent"
   ]
  },
  {
   "cell_type": "code",
   "execution_count": 14,
   "id": "aaea8c4c",
   "metadata": {},
   "outputs": [],
   "source": [
    "# Import function BeautifulSoup to clean text of HTML tags\n",
    "from bs4 import BeautifulSoup \n",
    "\n",
    "def review_to_words(raw_review):\n",
    "    raw_review = re.sub(\"<\", \" \", raw_review)\n",
    "    \n",
    "    # 1. Remove HTML tags\n",
    "    review_text = BeautifulSoup(raw_review).get_text() \n",
    "    \n",
    "    # 2. Transform abbreviated negations to the standard form.\n",
    "    review_text = negation_abbreviated_to_standard(review_text)\n",
    "    \n",
    "    # 3. Remove non-letters and non-numbers   \n",
    "    letters_numbers_only = re.sub(\"[^a-zA-Z_0-9]\", \" \", review_text) \n",
    "    \n",
    "     # 4. Convert to lower case and split into individual words (tokenization)\n",
    "    words = np.char.lower(letters_numbers_only.split())                             \n",
    "    \n",
    "    # 5. Remove stop words\n",
    "    meaningful_words = [w for w in words if not w in stopwords_list]   \n",
    "    \n",
    "    # 6. Apply lemmatization function\n",
    "    lemma_words = lemma_stem_text(meaningful_words)\n",
    "    \n",
    "    # 7. Join the words back into one string separated by space, and return the result.\n",
    "    return( \" \".join(lemma_words)) "
   ]
  },
  {
   "cell_type": "code",
   "execution_count": 15,
   "id": "a9abea04",
   "metadata": {},
   "outputs": [],
   "source": [
    "# We get the text of reviews in the training set\n",
    "reviews = x_train['review']\n",
    "\n",
    "# We initialize an empty list to add the clean reviews\n",
    "cleaned_train_reviews = []\n",
    "\n",
    "# We loop over each review and clean it  \n",
    "for i in reviews:\n",
    "    cleaned_train_reviews.append(review_to_words(i))"
   ]
  },
  {
   "cell_type": "markdown",
   "id": "f08bc2b1",
   "metadata": {},
   "source": [
    "### Tokenisation"
   ]
  },
  {
   "cell_type": "code",
   "execution_count": 16,
   "id": "099c57d2",
   "metadata": {},
   "outputs": [
    {
     "name": "stdout",
     "output_type": "stream",
     "text": [
      "(197026, 20000)\n"
     ]
    }
   ],
   "source": [
    "# Import tf-idf encoding from sklearn library\n",
    "from sklearn.feature_extraction.text import TfidfVectorizer\n",
    "\n",
    "# Define some hiperparameters of encoded\n",
    "vectorizer = TfidfVectorizer(max_features=20000, ngram_range = (1,2))\n",
    "\n",
    "# Create the training set with the words encoded as features of the reviews\n",
    "train_data_features = vectorizer.fit_transform(cleaned_train_reviews)\n",
    "\n",
    "print(train_data_features.shape)"
   ]
  },
  {
   "cell_type": "markdown",
   "id": "63e60d41",
   "metadata": {},
   "source": [
    "### Train-test split"
   ]
  },
  {
   "cell_type": "code",
   "execution_count": 17,
   "id": "f6b5297e",
   "metadata": {},
   "outputs": [],
   "source": [
    "# We split train dataset\n",
    "from sklearn.model_selection import train_test_split\n",
    "X_train, X_test, y_train, y_test = train_test_split(train_data_features, y_train, test_size=0.2, random_state=42)"
   ]
  },
  {
   "cell_type": "markdown",
   "id": "2a558cd3",
   "metadata": {},
   "source": [
    "### Logistic regression:"
   ]
  },
  {
   "cell_type": "code",
   "execution_count": 18,
   "id": "b7e0f418",
   "metadata": {},
   "outputs": [],
   "source": [
    "from sklearn.linear_model import LogisticRegression\n",
    "# Initialize a logistic regression model \n",
    "logistic = LogisticRegression(random_state=0, solver='saga',\n",
    "                            multi_class='multinomial')"
   ]
  },
  {
   "cell_type": "code",
   "execution_count": 21,
   "id": "019ed115",
   "metadata": {},
   "outputs": [
    {
     "name": "stdout",
     "output_type": "stream",
     "text": [
      "0.5872963508095214\n"
     ]
    }
   ],
   "source": [
    "model = LogisticRegression(solver='saga')\n",
    "model.fit(X_train, y_train)\n",
    "print(model.score(X_test, y_test))"
   ]
  },
  {
   "cell_type": "code",
   "execution_count": 24,
   "id": "3fcf4ead",
   "metadata": {},
   "outputs": [
    {
     "name": "stdout",
     "output_type": "stream",
     "text": [
      "Logistic Regression model accuracy is 58.73%\n",
      "------------------------------------------------\n",
      "Confusion Matrix:\n",
      "      0     1      2    3\n",
      "0  5223  2685   1052  218\n",
      "1  2046  6687   2588  386\n",
      "2  1027  2758  10433  221\n",
      "3   665  1871    745  801\n",
      "------------------------------------------------\n",
      "Classification Report:\n",
      "              precision    recall  f1-score   support\n",
      "\n",
      "          -1       0.58      0.57      0.58      9178\n",
      "           0       0.48      0.57      0.52     11707\n",
      "           1       0.70      0.72      0.71     14439\n",
      "           2       0.49      0.20      0.28      4082\n",
      "\n",
      "    accuracy                           0.59     39406\n",
      "   macro avg       0.56      0.51      0.52     39406\n",
      "weighted avg       0.59      0.59      0.58     39406\n",
      "\n"
     ]
    }
   ],
   "source": [
    "from sklearn.naive_bayes import MultinomialNB\n",
    "from sklearn.metrics import classification_report, confusion_matrix\n",
    "model = LogisticRegression(solver='saga')\n",
    "model.fit(X_train, y_train)\n",
    "\n",
    "from sklearn import metrics\n",
    "predicted = model.predict(X_test)\n",
    "accuracy_score = metrics.accuracy_score(predicted, y_test)\n",
    "\n",
    "print('Logistic Regression model accuracy is',str('{:04.2f}'.format(accuracy_score*100))+'%')\n",
    "print('------------------------------------------------')\n",
    "print('Confusion Matrix:')\n",
    "print(pd.DataFrame(confusion_matrix(y_test, predicted)))\n",
    "print('------------------------------------------------')\n",
    "print('Classification Report:')\n",
    "print(classification_report(y_test, predicted))"
   ]
  },
  {
   "cell_type": "code",
   "execution_count": 26,
   "id": "69266eff",
   "metadata": {},
   "outputs": [
    {
     "data": {
      "text/html": [
       "<div>\n",
       "<style scoped>\n",
       "    .dataframe tbody tr th:only-of-type {\n",
       "        vertical-align: middle;\n",
       "    }\n",
       "\n",
       "    .dataframe tbody tr th {\n",
       "        vertical-align: top;\n",
       "    }\n",
       "\n",
       "    .dataframe thead th {\n",
       "        text-align: right;\n",
       "    }\n",
       "</style>\n",
       "<table border=\"1\" class=\"dataframe\">\n",
       "  <thead>\n",
       "    <tr style=\"text-align: right;\">\n",
       "      <th></th>\n",
       "      <th>Class</th>\n",
       "      <th>Precision</th>\n",
       "      <th>Recall</th>\n",
       "      <th>F-measure</th>\n",
       "    </tr>\n",
       "  </thead>\n",
       "  <tbody>\n",
       "    <tr>\n",
       "      <th>-1</th>\n",
       "      <td>Negative</td>\n",
       "      <td>0.582859</td>\n",
       "      <td>0.569078</td>\n",
       "      <td>0.575886</td>\n",
       "    </tr>\n",
       "    <tr>\n",
       "      <th>0</th>\n",
       "      <td>Neutral</td>\n",
       "      <td>0.477609</td>\n",
       "      <td>0.571197</td>\n",
       "      <td>0.520227</td>\n",
       "    </tr>\n",
       "    <tr>\n",
       "      <th>1</th>\n",
       "      <td>Positive</td>\n",
       "      <td>0.704076</td>\n",
       "      <td>0.722557</td>\n",
       "      <td>0.713197</td>\n",
       "    </tr>\n",
       "    <tr>\n",
       "      <th>2</th>\n",
       "      <td>Ambiguous</td>\n",
       "      <td>0.492620</td>\n",
       "      <td>0.196227</td>\n",
       "      <td>0.280659</td>\n",
       "    </tr>\n",
       "  </tbody>\n",
       "</table>\n",
       "</div>"
      ],
      "text/plain": [
       "        Class  Precision    Recall  F-measure\n",
       "-1   Negative   0.582859  0.569078   0.575886\n",
       "0     Neutral   0.477609  0.571197   0.520227\n",
       "1    Positive   0.704076  0.722557   0.713197\n",
       "2   Ambiguous   0.492620  0.196227   0.280659"
      ]
     },
     "metadata": {},
     "output_type": "display_data"
    }
   ],
   "source": [
    "report = classification_report(y_test, predicted, output_dict=True)\n",
    "df_report = pd.DataFrame(report).transpose()\n",
    "\n",
    "df_report = df_report.drop(['accuracy','macro avg','weighted avg'])\n",
    "df_report = df_report.drop(columns=['support'])\n",
    "df_report = df_report.rename(columns={'precision': 'Precision', 'recall': 'Recall', 'f1-score': 'F-measure'})\n",
    "df_report.insert(0, 'Class', ['Negative','Neutral','Positive','Ambiguous'])\n",
    "\n",
    "\n",
    "display(df_report)"
   ]
  },
  {
   "cell_type": "code",
   "execution_count": 29,
   "id": "df40329c",
   "metadata": {},
   "outputs": [
    {
     "data": {
      "image/png": "[encoded data removed]",
      "text/plain": [
       "<Figure size 640x480 with 2 Axes>"
      ]
     },
     "metadata": {},
     "output_type": "display_data"
    }
   ],
   "source": [
    "from sklearn.metrics import ConfusionMatrixDisplay\n",
    "import warnings\n",
    "import matplotlib.pyplot as plt \n",
    "warnings.filterwarnings(\"ignore\")\n",
    "ConfusionMatrixDisplay.from_estimator(model, X_test, y_test,display_labels=['negative','neutral','positive','ambiguous'],values_format='d') \n",
    "plt.title(\"Confusion Matrix for Logistic Regresssion\")\n",
    "plt.show()\n",
    "\n",
    "\n",
    "# plt.savefig('LR_confusionmatrix.png')"
   ]
  },
  {
   "cell_type": "code",
   "execution_count": null,
   "id": "8f34832f",
   "metadata": {},
   "outputs": [],
   "source": []
  }
 ],
 "metadata": {
  "kernelspec": {
   "display_name": "Python 3 (ipykernel)",
   "language": "python",
   "name": "python3"
  },
  "language_info": {
   "codemirror_mode": {
    "name": "ipython",
    "version": 3
   },
   "file_extension": ".py",
   "mimetype": "text/x-python",
   "name": "python",
   "nbconvert_exporter": "python",
   "pygments_lexer": "ipython3",
   "version": "3.11.3"
  }
 },
 "nbformat": 4,
 "nbformat_minor": 5
}
