{
 "cells": [
  {
   "cell_type": "markdown",
   "id": "bf14c180",
   "metadata": {},
   "source": [
    "### Import packages"
   ]
  },
  {
   "cell_type": "code",
   "execution_count": 1,
   "id": "c71f572f",
   "metadata": {},
   "outputs": [
    {
     "name": "stderr",
     "output_type": "stream",
     "text": [
      "[nltk_data] Downloading package punkt to\n",
      "[nltk_data]     C:\\Users\\cjb224\\AppData\\Roaming\\nltk_data...\n",
      "[nltk_data]   Unzipping tokenizers\\punkt.zip.\n",
      "[nltk_data] Downloading package stopwords to\n",
      "[nltk_data]     C:\\Users\\cjb224\\AppData\\Roaming\\nltk_data...\n",
      "[nltk_data]   Unzipping corpora\\stopwords.zip.\n",
      "[nltk_data] Downloading package wordnet to\n",
      "[nltk_data]     C:\\Users\\cjb224\\AppData\\Roaming\\nltk_data...\n",
      "[nltk_data] Downloading package omw-1.4 to\n",
      "[nltk_data]     C:\\Users\\cjb224\\AppData\\Roaming\\nltk_data...\n"
     ]
    }
   ],
   "source": [
    "import numpy as np\n",
    "import re\n",
    "import string\n",
    "\n",
    "import nltk\n",
    "from nltk.corpus import stopwords\n",
    "from nltk.stem import WordNetLemmatizer\n",
    "from nltk.tokenize import word_tokenize\n",
    "\n",
    "nltk.download('punkt')\n",
    "nltk.download('stopwords')\n",
    "nltk.download('wordnet')\n",
    "nltk.download('omw-1.4')\n",
    "stop_words = stopwords.words()"
   ]
  },
  {
   "cell_type": "markdown",
   "id": "e300f813",
   "metadata": {},
   "source": [
    "https://www.kaggle.com/code/ankumagawa/sentimental-analysis-using-naive-bayes-classifier"
   ]
  },
  {
   "cell_type": "markdown",
   "id": "98864a66",
   "metadata": {},
   "source": [
    "### Import Dataset: GoEmotions"
   ]
  },
  {
   "cell_type": "code",
   "execution_count": 1,
   "id": "4900d68d",
   "metadata": {
    "scrolled": true
   },
   "outputs": [
    {
     "data": {
      "application/vnd.jupyter.widget-view+json": {
       "model_id": "6fab69af33ae4ebfac75a06acc72946c",
       "version_major": 2,
       "version_minor": 0
      },
      "text/plain": [
       "Downloading readme:   0%|          | 0.00/9.40k [00:00<?, ?B/s]"
      ]
     },
     "metadata": {},
     "output_type": "display_data"
    },
    {
     "name": "stderr",
     "output_type": "stream",
     "text": [
      "Downloading data: 100%|███████████████████████████████████████████████████████████| 24.8M/24.8M [00:01<00:00, 14.9MB/s]\n"
     ]
    },
    {
     "data": {
      "application/vnd.jupyter.widget-view+json": {
       "model_id": "37a8c5780c354774aa7ff366988e3397",
       "version_major": 2,
       "version_minor": 0
      },
      "text/plain": [
       "Generating train split:   0%|          | 0/211225 [00:00<?, ? examples/s]"
      ]
     },
     "metadata": {},
     "output_type": "display_data"
    }
   ],
   "source": [
    "from datasets import load_dataset\n",
    "\n",
    "dataset = load_dataset(\"go_emotions\", \"raw\")"
   ]
  },
  {
   "cell_type": "markdown",
   "id": "62417152",
   "metadata": {},
   "source": [
    "### Creating classes"
   ]
  },
  {
   "cell_type": "code",
   "execution_count": null,
   "id": "6811a6dd",
   "metadata": {},
   "outputs": [],
   "source": [
    "positive_em = ['admiration', 'amusement', 'approval', 'caring', 'desire', 'excitement', 'gratitude', 'joy', 'love', 'optimism', 'pride', 'relief']\n",
    "negative_em = ['anger', 'annoyance', 'disappointment', 'disapproval', 'disgust', 'embarrassment', 'fear', 'grief', 'nervousness', 'remorse', 'sadness']\n",
    "neutral_em = ['neutral']\n",
    "ambiguous_em = ['curiosity', 'realization', 'surprise', 'confusion']"
   ]
  },
  {
   "cell_type": "code",
   "execution_count": 256,
   "id": "fc0d41c5",
   "metadata": {},
   "outputs": [
    {
     "data": {
      "text/plain": [
       "array([0, 0, 1, ..., 0, 0, 0])"
      ]
     },
     "execution_count": 256,
     "metadata": {},
     "output_type": "execute_result"
    }
   ],
   "source": [
    "train_ds = dataset[\"train\"]\n",
    "\n",
    "positive = np.zeros(len(train_ds))\n",
    "for i in positive_em:\n",
    "    array = np.array(train_ds[i])\n",
    "    positive = positive + array\n",
    "    \n",
    "negative = np.zeros(len(train_ds))\n",
    "for i in negative_em:\n",
    "    array = np.array(train_ds[i])\n",
    "    negative = negative + array\n",
    "\n",
    "neutral = np.array(train_ds['neutral'])\n",
    "\n",
    "ambiguous = np.zeros(len(train_ds))\n",
    "for i in ambiguous_em:\n",
    "    array = np.array(train_ds[i])\n",
    "    ambiguous = ambiguous + array\n",
    "    "
   ]
  },
  {
   "cell_type": "code",
   "execution_count": 257,
   "id": "9c067555",
   "metadata": {},
   "outputs": [],
   "source": [
    "xpositive = np.array([1 if row > 0 else 0 for row in positive])\n",
    "xnegative = np.array([1 if row > 0 else 0 for row in negative])\n",
    "xambiguous = np.array([1 if row > 0 else 0 for row in ambiguous])\n",
    "xneutral = np.array([1 if row > 0 else 0 for row in neutral])\n",
    "\n",
    "add_sentiment = xpositive + xnegative + xambiguous + xneutral\n",
    "\n",
    "remove_indices = [i for i, x in enumerate(add_sentiment) if x > 1]\n",
    "keep_indices = [i for i, x in enumerate(add_sentiment) if x < 2]"
   ]
  },
  {
   "cell_type": "code",
   "execution_count": 231,
   "id": "e30bc80e",
   "metadata": {},
   "outputs": [
    {
     "name": "stdout",
     "output_type": "stream",
     "text": [
      "197044\n"
     ]
    }
   ],
   "source": [
    "positive = np.array([1 if row > 0 else 0 for row in positive])\n",
    "negative = np.array([-1 if row > 0 else 0 for row in negative])\n",
    "ambiguous = np.array([2 if row > 0 else 0 for row in ambiguous])\n",
    "neutral = np.array([0 if row > 0 else 0 for row in neutral])\n",
    "\n",
    "sentiment = positive + negative + ambiguous + neutral\n",
    "sentiment = [i for j, i in enumerate(sentiment) if j not in remove_indices]\n"
   ]
  },
  {
   "cell_type": "code",
   "execution_count": 232,
   "id": "29c53fdd",
   "metadata": {},
   "outputs": [],
   "source": [
    "new_dataset = train_ds.map(remove_columns=['id', 'author', 'subreddit', 'link_id', 'parent_id', 'created_utc', 'rater_id', 'example_very_unclear', 'excitement', 'sadness','admiration', 'amusement', 'anger', 'annoyance', 'approval', 'caring', 'confusion', 'curiosity', 'desire', 'disappointment', 'disapproval', 'disgust', 'embarrassment', 'fear', 'gratitude', 'grief', 'joy', 'love', 'nervousness', 'optimism', 'pride', 'realization', 'relief', 'remorse', 'surprise','neutral'])\n",
    "new_dataset = new_dataset.select(keep_indices)\n",
    "new_dataset = new_dataset.add_column(\"sentiment\",sentiment)"
   ]
  },
  {
   "cell_type": "code",
   "execution_count": 234,
   "id": "103b9898",
   "metadata": {},
   "outputs": [],
   "source": [
    "import pandas as pd\n",
    "# Change into a dataset to clean and tokenise data\n",
    "data = pd.DataFrame(new_dataset)"
   ]
  },
  {
   "cell_type": "markdown",
   "id": "7e9e3b95",
   "metadata": {},
   "source": [
    "### Clean text data:"
   ]
  },
  {
   "cell_type": "code",
   "execution_count": 235,
   "id": "4de43928",
   "metadata": {},
   "outputs": [],
   "source": [
    "# function for cleaning the data\n",
    "def cleaning(text):        \n",
    "    # converting to lowercase, removing URL links, special characters, punctuations...\n",
    "    text = text.lower() # converting to lowercase\n",
    "    text = re.sub('https?://\\S+|www\\.\\S+', '', text) # removing URL links\n",
    "    text = re.sub(r\"\\b\\d+\\b\", \"\", text) # removing number \n",
    "    text = re.sub('<.*?>+', '', text) # removing special characters, \n",
    "    text = re.sub('[%s]' % re.escape(string.punctuation), '', text) # punctuations\n",
    "    text = re.sub('\\n', '', text)\n",
    "    text = re.sub('[’“”…]', '', text)\n",
    "    \n",
    "    # removing emoji: \n",
    "    emoji_pattern = re.compile(\"[\"\n",
    "                           u\"\\U0001F600-\\U0001F64F\"  # emoticons\n",
    "                           u\"\\U0001F300-\\U0001F5FF\"  # symbols & pictographs\n",
    "                           u\"\\U0001F680-\\U0001F6FF\"  # transport & map symbols\n",
    "                           u\"\\U0001F1E0-\\U0001F1FF\"  # flags (iOS)\n",
    "                           u\"\\U00002702-\\U000027B0\"\n",
    "                           u\"\\U000024C2-\\U0001F251\"\n",
    "                           \"]+\", flags=re.UNICODE)\n",
    "    text = emoji_pattern.sub(r'', text)   \n",
    "\n",
    "    # removing short form: \n",
    "    text=re.sub(\"isn't\",'is not',text)\n",
    "    text=re.sub(\"he's\",'he is',text)\n",
    "    text=re.sub(\"wasn't\",'was not',text)\n",
    "    text=re.sub(\"there's\",'there is',text)\n",
    "    text=re.sub(\"couldn't\",'could not',text)\n",
    "    text=re.sub(\"won't\",'will not',text)\n",
    "    text=re.sub(\"they're\",'they are',text)\n",
    "    text=re.sub(\"she's\",'she is',text)\n",
    "    text=re.sub(\"There's\",'there is',text)\n",
    "    text=re.sub(\"wouldn't\",'would not',text)\n",
    "    text=re.sub(\"haven't\",'have not',text)\n",
    "    text=re.sub(\"That's\",'That is',text)\n",
    "    text=re.sub(\"you've\",'you have',text)\n",
    "    text=re.sub(\"He's\",'He is',text)\n",
    "    text=re.sub(\"what's\",'what is',text)\n",
    "    text=re.sub(\"weren't\",'were not',text)\n",
    "    text=re.sub(\"we're\",'we are',text)\n",
    "    text=re.sub(\"hasn't\",'has not',text)\n",
    "    text=re.sub(\"you'd\",'you would',text)\n",
    "    text=re.sub(\"shouldn't\",'should not',text)\n",
    "    text=re.sub(\"let's\",'let us',text)\n",
    "    text=re.sub(\"they've\",'they have',text)\n",
    "    text=re.sub(\"You'll\",'You will',text)\n",
    "    text=re.sub(\"i'm\",'i am',text)\n",
    "    text=re.sub(\"we've\",'we have',text)\n",
    "    text=re.sub(\"it's\",'it is',text)\n",
    "    text=re.sub(\"don't\",'do not',text)\n",
    "    text=re.sub(\"that´s\",'that is',text)\n",
    "    text=re.sub(\"I´m\",'I am',text)\n",
    "    text=re.sub(\"it’s\",'it is',text)\n",
    "    text=re.sub(\"she´s\",'she is',text)\n",
    "    text=re.sub(\"he’s'\",'he is',text)\n",
    "    text=re.sub('I’m','I am',text)\n",
    "    text=re.sub('I’d','I did',text)\n",
    "    text=re.sub(\"he’s'\",'he is',text)\n",
    "    text=re.sub('there’s','there is',text)\n",
    "    \n",
    "    return text\n",
    "\n",
    "dt = data['text'].apply(cleaning)"
   ]
  },
  {
   "cell_type": "code",
   "execution_count": 236,
   "id": "8af12f3a",
   "metadata": {},
   "outputs": [],
   "source": [
    "dt = pd.DataFrame(dt)\n",
    "dt['sentiment'] = data['sentiment']"
   ]
  },
  {
   "cell_type": "code",
   "execution_count": 237,
   "id": "ed65e6be",
   "metadata": {},
   "outputs": [],
   "source": [
    "# remove stop word\n",
    "dt['no_sw'] = dt['text'].apply(lambda x: ' '.join([word for word in x.split() if word not in (stop_words)]))"
   ]
  },
  {
   "cell_type": "code",
   "execution_count": 238,
   "id": "e6157fd4",
   "metadata": {},
   "outputs": [
    {
     "data": {
      "text/plain": [
       "[('love', 7603),\n",
       " ('youre', 5474),\n",
       " ('time', 5319),\n",
       " ('make', 3779),\n",
       " ('ive', 3522),\n",
       " ('feel', 3370),\n",
       " ('hes', 3291),\n",
       " ('back', 3278),\n",
       " ('great', 3118),\n",
       " ('hope', 3009)]"
      ]
     },
     "execution_count": 238,
     "metadata": {},
     "output_type": "execute_result"
    }
   ],
   "source": [
    "#Working with the most Frequent Words: \n",
    "from collections import Counter\n",
    "cnt = Counter()\n",
    "for text in dt[\"no_sw\"].values:\n",
    "    for word in text.split():\n",
    "        cnt[word] += 1\n",
    "cnt.most_common(10)"
   ]
  },
  {
   "cell_type": "code",
   "execution_count": 239,
   "id": "aaea8c4c",
   "metadata": {},
   "outputs": [],
   "source": [
    "# Remove the most frequent words:\n",
    "FREQWORDS = set([w for (w, wc) in cnt.most_common(10)])\n",
    "def remove_freqwords(text):\n",
    "    \"\"\"custom function to remove the frequent words\"\"\"\n",
    "    return \" \".join([word for word in str(text).split() if word not in FREQWORDS])\n",
    "dt[\"wo_stopfreq\"] = dt[\"no_sw\"].apply(lambda text: remove_freqwords(text))"
   ]
  },
  {
   "cell_type": "code",
   "execution_count": 240,
   "id": "a9abea04",
   "metadata": {},
   "outputs": [],
   "source": [
    "# Lemmatization: Lemmatization is converting the word to its base form or lemma by removing affixes from the inflected words. \n",
    "# It helps to create better features for machine learning and NLP models hence it is an important preprocessing step.\n",
    "wordnet_lem = WordNetLemmatizer()\n",
    "dt['wo_stopfreq_lem'] = dt['wo_stopfreq'].apply(wordnet_lem.lemmatize)"
   ]
  },
  {
   "cell_type": "markdown",
   "id": "f08bc2b1",
   "metadata": {},
   "source": [
    "### Tokenisation"
   ]
  },
  {
   "cell_type": "code",
   "execution_count": 241,
   "id": "099c57d2",
   "metadata": {},
   "outputs": [
    {
     "data": {
      "text/plain": [
       "0        -1\n",
       "1         0\n",
       "2         0\n",
       "3         1\n",
       "4         0\n",
       "         ..\n",
       "197039    1\n",
       "197040    1\n",
       "197041    1\n",
       "197042   -1\n",
       "197043    0\n",
       "Name: sentiment, Length: 197044, dtype: int64"
      ]
     },
     "execution_count": 241,
     "metadata": {},
     "output_type": "execute_result"
    }
   ],
   "source": [
    "# create the cleaned data for the train-test split:\n",
    "nb=dt.drop(columns=['text','no_sw', 'wo_stopfreq'])\n",
    "nb.columns=['sentiment','review']"
   ]
  },
  {
   "cell_type": "code",
   "execution_count": 242,
   "id": "5f108f35",
   "metadata": {},
   "outputs": [
    {
     "data": {
      "text/plain": [
       "0                                         [game, hurt]\n",
       "1    [sexuality, grouping, category, makes, differe...\n",
       "2                                               [fuck]\n",
       "3                                             [reddit]\n",
       "4                                             [falcon]\n",
       "Name: review, dtype: object"
      ]
     },
     "execution_count": 242,
     "metadata": {},
     "output_type": "execute_result"
    }
   ],
   "source": [
    "tokenized_review=nb['review'].apply(lambda x: x.split())\n",
    "tokenized_review.head(5)"
   ]
  },
  {
   "cell_type": "code",
   "execution_count": 243,
   "id": "43590155",
   "metadata": {},
   "outputs": [],
   "source": [
    "from sklearn.feature_extraction.text import CountVectorizer\n",
    "from nltk.tokenize import RegexpTokenizer\n",
    "token = RegexpTokenizer(r'[a-zA-Z0-9]+')\n",
    "cv = CountVectorizer(stop_words='english',ngram_range = (1,1),tokenizer = token.tokenize)\n",
    "text_counts = cv.fit_transform(nb['review'])"
   ]
  },
  {
   "cell_type": "markdown",
   "id": "63e60d41",
   "metadata": {},
   "source": [
    "### Train-test split"
   ]
  },
  {
   "cell_type": "code",
   "execution_count": 244,
   "id": "f6b5297e",
   "metadata": {},
   "outputs": [],
   "source": [
    "from sklearn.model_selection import train_test_split\n",
    "X=text_counts\n",
    "y=nb['sentiment']\n",
    "X_train, X_test, y_train, y_test = train_test_split(X, y, test_size=0.20,random_state=30)"
   ]
  },
  {
   "cell_type": "markdown",
   "id": "8017d046",
   "metadata": {},
   "source": [
    "### Naive Bayes"
   ]
  },
  {
   "cell_type": "code",
   "execution_count": 276,
   "id": "a65b07b0",
   "metadata": {},
   "outputs": [
    {
     "name": "stdout",
     "output_type": "stream",
     "text": [
      "MultinominalNB model accuracy is 53.19%\n",
      "------------------------------------------------\n",
      "Confusion Matrix:\n",
      "      0     1      2    3\n",
      "0  5067  1982   1778  246\n",
      "1  2219  4630   4361  576\n",
      "2  1345  2272  10431  291\n",
      "3   745  1209   1422  835\n",
      "------------------------------------------------\n",
      "Classification Report:\n",
      "              precision    recall  f1-score   support\n",
      "\n",
      "          -1       0.54      0.56      0.55      9073\n",
      "           0       0.46      0.39      0.42     11786\n",
      "           1       0.58      0.73      0.65     14339\n",
      "           2       0.43      0.20      0.27      4211\n",
      "\n",
      "    accuracy                           0.53     39409\n",
      "   macro avg       0.50      0.47      0.47     39409\n",
      "weighted avg       0.52      0.53      0.52     39409\n",
      "\n"
     ]
    }
   ],
   "source": [
    "from sklearn.naive_bayes import MultinomialNB\n",
    "from sklearn.metrics import classification_report, confusion_matrix\n",
    "MNB = MultinomialNB()\n",
    "MNB.fit(X_train, y_train)\n",
    "\n",
    "from sklearn import metrics\n",
    "predicted = MNB.predict(X_test)\n",
    "accuracy_score = metrics.accuracy_score(predicted, y_test)\n",
    "\n",
    "print('MultinominalNB model accuracy is',str('{:04.2f}'.format(accuracy_score*100))+'%')\n",
    "print('------------------------------------------------')\n",
    "print('Confusion Matrix:')\n",
    "print(pd.DataFrame(confusion_matrix(y_test, predicted)))\n",
    "print('------------------------------------------------')\n",
    "print('Classification Report:')\n",
    "print(classification_report(y_test, predicted))"
   ]
  },
  {
   "cell_type": "code",
   "execution_count": 310,
   "id": "a79cefa1",
   "metadata": {},
   "outputs": [
    {
     "data": {
      "text/html": [
       "<div>\n",
       "<style scoped>\n",
       "    .dataframe tbody tr th:only-of-type {\n",
       "        vertical-align: middle;\n",
       "    }\n",
       "\n",
       "    .dataframe tbody tr th {\n",
       "        vertical-align: top;\n",
       "    }\n",
       "\n",
       "    .dataframe thead th {\n",
       "        text-align: right;\n",
       "    }\n",
       "</style>\n",
       "<table border=\"1\" class=\"dataframe\">\n",
       "  <thead>\n",
       "    <tr style=\"text-align: right;\">\n",
       "      <th></th>\n",
       "      <th>Class</th>\n",
       "      <th>Precision</th>\n",
       "      <th>Recall</th>\n",
       "      <th>F-measure</th>\n",
       "    </tr>\n",
       "  </thead>\n",
       "  <tbody>\n",
       "    <tr>\n",
       "      <th>-1</th>\n",
       "      <td>negative</td>\n",
       "      <td>0.540422</td>\n",
       "      <td>0.558470</td>\n",
       "      <td>0.549298</td>\n",
       "    </tr>\n",
       "    <tr>\n",
       "      <th>0</th>\n",
       "      <td>neutral</td>\n",
       "      <td>0.458734</td>\n",
       "      <td>0.392839</td>\n",
       "      <td>0.423237</td>\n",
       "    </tr>\n",
       "    <tr>\n",
       "      <th>1</th>\n",
       "      <td>positive</td>\n",
       "      <td>0.579758</td>\n",
       "      <td>0.727457</td>\n",
       "      <td>0.645263</td>\n",
       "    </tr>\n",
       "    <tr>\n",
       "      <th>2</th>\n",
       "      <td>ambiguous</td>\n",
       "      <td>0.428645</td>\n",
       "      <td>0.198290</td>\n",
       "      <td>0.271148</td>\n",
       "    </tr>\n",
       "  </tbody>\n",
       "</table>\n",
       "</div>"
      ],
      "text/plain": [
       "        Class  Precision    Recall  F-measure\n",
       "-1   negative   0.540422  0.558470   0.549298\n",
       "0     neutral   0.458734  0.392839   0.423237\n",
       "1    positive   0.579758  0.727457   0.645263\n",
       "2   ambiguous   0.428645  0.198290   0.271148"
      ]
     },
     "metadata": {},
     "output_type": "display_data"
    }
   ],
   "source": [
    "report = classification_report(y_test, predicted, output_dict=True)\n",
    "df_report = pd.DataFrame(report).transpose()\n",
    "\n",
    "\n",
    "type(df_report)\n",
    "\n",
    "df_report = df_report.drop(['accuracy','macro avg','weighted avg'])\n",
    "df_report = df_report.drop(columns=['support'])\n",
    "\n",
    "df_report = df_report.rename(columns={'precision': 'Precision', 'recall': 'Recall', 'f1-score': 'F-measure'})\n",
    "\n",
    "\n",
    "df_report.insert(0, 'Class', ['negative','neutral','positive','ambiguous'])\n",
    "\n",
    "\n",
    "display(df_report)"
   ]
  },
  {
   "cell_type": "code",
   "execution_count": null,
   "id": "39f32079",
   "metadata": {},
   "outputs": [],
   "source": []
  },
  {
   "cell_type": "code",
   "execution_count": 270,
   "id": "2559bee1",
   "metadata": {},
   "outputs": [
    {
     "data": {
      "image/png": "[encoded data removed]",
      "text/plain": [
       "<Figure size 640x480 with 2 Axes>"
      ]
     },
     "metadata": {},
     "output_type": "display_data"
    }
   ],
   "source": [
    "from sklearn.metrics import ConfusionMatrixDisplay\n",
    "import warnings\n",
    "import matplotlib.pyplot as plt \n",
    "warnings.filterwarnings(\"ignore\")\n",
    "ConfusionMatrixDisplay.from_estimator(MNB, X_test, y_test,display_labels=['negative','neutral','positive','ambiguous'],values_format='d') \n",
    "plt.title(\"Confusion Matrix for Naive Bayes\")\n",
    "plt.show()\n",
    "\n",
    "#plt.savefig('NB_confusionmatrix.png')"
   ]
  }
 ],
 "metadata": {
  "kernelspec": {
   "display_name": "Python 3 (ipykernel)",
   "language": "python",
   "name": "python3"
  },
  "language_info": {
   "codemirror_mode": {
    "name": "ipython",
    "version": 3
   },
   "file_extension": ".py",
   "mimetype": "text/x-python",
   "name": "python",
   "nbconvert_exporter": "python",
   "pygments_lexer": "ipython3",
   "version": "3.11.3"
  }
 },
 "nbformat": 4,
 "nbformat_minor": 5
}
